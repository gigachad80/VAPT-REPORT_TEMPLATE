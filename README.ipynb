# VAPT-Report-Template

                                                                          
 
## Name of Vulnerability :

 Severity:  
 Description



## Instance 
 URL :    


## Payload :   

## Proof Of Concept : (POC) 
Screenshot Or Video Proof 



## Steps To Reproduce
1 Go TO URL


2 Insert the Payload in Search Box 



3. Check the Response 

## Impact 
* Open Redirection
* Phishing
* User Alert Screen
* Any other as per vulnerability 

## Mitigation 
* Filter special characters
* Encoding
* Any other 

## Reference OWASP/CVE/NVD
                   												
